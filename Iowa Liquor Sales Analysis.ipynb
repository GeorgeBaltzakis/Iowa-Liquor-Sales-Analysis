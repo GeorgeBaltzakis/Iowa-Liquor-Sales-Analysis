{
 "cells": [
  {
   "cell_type": "code",
   "execution_count": 75,
   "id": "7be69955",
   "metadata": {},
   "outputs": [],
   "source": [
    "import pandas as pd\n",
    "import plotly.express as px\n",
    "import numpy as np"
   ]
  },
  {
   "cell_type": "markdown",
   "id": "c5dd490d",
   "metadata": {},
   "source": [
    "### Import Data"
   ]
  },
  {
   "cell_type": "code",
   "execution_count": null,
   "id": "d774f65e",
   "metadata": {},
   "outputs": [],
   "source": [
    "sales = pd.read_csv('https://storage.googleapis.com/courses_data/Assignment%20CSV/finance_liquor_sales.csv')"
   ]
  },
  {
   "cell_type": "markdown",
   "id": "e5d31156",
   "metadata": {},
   "source": [
    "### Preparation"
   ]
  },
  {
   "cell_type": "code",
   "execution_count": null,
   "id": "ee9f2409",
   "metadata": {},
   "outputs": [],
   "source": [
    "# Convert 'date' to datetime format\n",
    "sales['date'] = pd.to_datetime(sales['date'])\n",
    "\n",
    "# Convert 'zip_code' to string\n",
    "sales['zip_code'] = sales['zip_code'].astype(int).astype(str)\n",
    "\n",
    "# Date Selection\n",
    "sales = sales.loc[(sales['date'] > '2016') & (sales['date'] < '2020')]"
   ]
  },
  {
   "cell_type": "markdown",
   "id": "a2d44932",
   "metadata": {},
   "source": [
    "<hr>"
   ]
  },
  {
   "cell_type": "markdown",
   "id": "3ad20110",
   "metadata": {},
   "source": [
    "### Task 1 (Query): Most popular items by zip code"
   ]
  },
  {
   "cell_type": "code",
   "execution_count": 222,
   "id": "b59ba192",
   "metadata": {},
   "outputs": [
    {
     "data": {
      "text/html": [
       "<div>\n",
       "<style scoped>\n",
       "    .dataframe tbody tr th:only-of-type {\n",
       "        vertical-align: middle;\n",
       "    }\n",
       "\n",
       "    .dataframe tbody tr th {\n",
       "        vertical-align: top;\n",
       "    }\n",
       "\n",
       "    .dataframe thead th {\n",
       "        text-align: right;\n",
       "    }\n",
       "</style>\n",
       "<table border=\"1\" class=\"dataframe\">\n",
       "  <thead>\n",
       "    <tr style=\"text-align: right;\">\n",
       "      <th></th>\n",
       "      <th>index</th>\n",
       "      <th>zip_code</th>\n",
       "      <th>item_number</th>\n",
       "      <th>bottles_sold</th>\n",
       "      <th>item_description</th>\n",
       "    </tr>\n",
       "  </thead>\n",
       "  <tbody>\n",
       "    <tr>\n",
       "      <th>37</th>\n",
       "      <td>62</td>\n",
       "      <td>52314</td>\n",
       "      <td>75087</td>\n",
       "      <td>1560</td>\n",
       "      <td>Juarez Gold DssJuarez Gold Dss</td>\n",
       "    </tr>\n",
       "    <tr>\n",
       "      <th>19</th>\n",
       "      <td>30</td>\n",
       "      <td>50702</td>\n",
       "      <td>77487</td>\n",
       "      <td>768</td>\n",
       "      <td>Tortilla Gold Dss</td>\n",
       "    </tr>\n",
       "    <tr>\n",
       "      <th>0</th>\n",
       "      <td>0</td>\n",
       "      <td>50010</td>\n",
       "      <td>946574</td>\n",
       "      <td>288</td>\n",
       "      <td>Member's Mark Spiced Rum</td>\n",
       "    </tr>\n",
       "    <tr>\n",
       "      <th>8</th>\n",
       "      <td>13</td>\n",
       "      <td>50314</td>\n",
       "      <td>86251</td>\n",
       "      <td>240</td>\n",
       "      <td>Juarez Triple SecJuarez Triple Sec</td>\n",
       "    </tr>\n",
       "    <tr>\n",
       "      <th>23</th>\n",
       "      <td>39</td>\n",
       "      <td>51106</td>\n",
       "      <td>67527</td>\n",
       "      <td>240</td>\n",
       "      <td>Kahlua Coffee Liqueur</td>\n",
       "    </tr>\n",
       "    <tr>\n",
       "      <th>39</th>\n",
       "      <td>65</td>\n",
       "      <td>52402</td>\n",
       "      <td>86390</td>\n",
       "      <td>216</td>\n",
       "      <td>Montezuma Triple Sec</td>\n",
       "    </tr>\n",
       "    <tr>\n",
       "      <th>20</th>\n",
       "      <td>33</td>\n",
       "      <td>50703</td>\n",
       "      <td>168</td>\n",
       "      <td>180</td>\n",
       "      <td>Pinnacle Peach w/ Punch Dispenser</td>\n",
       "    </tr>\n",
       "    <tr>\n",
       "      <th>11</th>\n",
       "      <td>19</td>\n",
       "      <td>50320</td>\n",
       "      <td>973627</td>\n",
       "      <td>120</td>\n",
       "      <td>Di Amore Quattro Orange</td>\n",
       "    </tr>\n",
       "    <tr>\n",
       "      <th>15</th>\n",
       "      <td>24</td>\n",
       "      <td>50501</td>\n",
       "      <td>38176</td>\n",
       "      <td>108</td>\n",
       "      <td>Titos Vodka</td>\n",
       "    </tr>\n",
       "    <tr>\n",
       "      <th>2</th>\n",
       "      <td>2</td>\n",
       "      <td>50111</td>\n",
       "      <td>77805</td>\n",
       "      <td>108</td>\n",
       "      <td>Saints N Sinners Apple Pie</td>\n",
       "    </tr>\n",
       "  </tbody>\n",
       "</table>\n",
       "</div>"
      ],
      "text/plain": [
       "    index zip_code  item_number  bottles_sold  \\\n",
       "37     62    52314        75087          1560   \n",
       "19     30    50702        77487           768   \n",
       "0       0    50010       946574           288   \n",
       "8      13    50314        86251           240   \n",
       "23     39    51106        67527           240   \n",
       "39     65    52402        86390           216   \n",
       "20     33    50703          168           180   \n",
       "11     19    50320       973627           120   \n",
       "15     24    50501        38176           108   \n",
       "2       2    50111        77805           108   \n",
       "\n",
       "                      item_description  \n",
       "37      Juarez Gold DssJuarez Gold Dss  \n",
       "19                   Tortilla Gold Dss  \n",
       "0             Member's Mark Spiced Rum  \n",
       "8   Juarez Triple SecJuarez Triple Sec  \n",
       "23               Kahlua Coffee Liqueur  \n",
       "39                Montezuma Triple Sec  \n",
       "20   Pinnacle Peach w/ Punch Dispenser  \n",
       "11             Di Amore Quattro Orange  \n",
       "15                         Titos Vodka  \n",
       "2           Saints N Sinners Apple Pie  "
      ]
     },
     "execution_count": 222,
     "metadata": {},
     "output_type": "execute_result"
    }
   ],
   "source": [
    "# Group by zip_code and item_number, summing bottles_sold\n",
    "sales_per_item = sales.groupby(['zip_code', 'item_number'])[['bottles_sold', 'item_description']].sum().reset_index()\n",
    "\n",
    "# Identify the item with the maximum bottles_sold for each zip_code\n",
    "most_popular_items = sales_per_item.loc[sales_per_item.groupby('zip_code')['bottles_sold'].idxmax()].reset_index()\n",
    "\n",
    "# Select Top-10 items sorted by bottles_sold column\n",
    "most_popular_items_sorted = most_popular_items.sort_values('bottles_sold', ascending=False).head(10).copy()\n",
    "most_popular_items_sorted"
   ]
  },
  {
   "cell_type": "markdown",
   "id": "069ec272",
   "metadata": {},
   "source": [
    "### Task 1 (Plot): Most popular items by zip code"
   ]
  },
  {
   "cell_type": "code",
   "execution_count": 226,
   "id": "5f0fde08",
   "metadata": {},
   "outputs": [
    {
     "data": {
      "application/vnd.plotly.v1+json": {
       "config": {
        "plotlyServerURL": "https://plot.ly"
       },
       "data": [
        {
         "cliponaxis": false,
         "customdata": [
          [
           "Juarez Gold DssJuarez Gold Dss"
          ],
          [
           "Tortilla Gold Dss"
          ],
          [
           "Member's Mark Spiced Rum"
          ],
          [
           "Juarez Triple SecJuarez Triple Sec"
          ],
          [
           "Kahlua Coffee Liqueur"
          ],
          [
           "Montezuma Triple Sec"
          ],
          [
           "Pinnacle Peach w/ Punch Dispenser"
          ],
          [
           "Di Amore Quattro Orange"
          ],
          [
           "Titos Vodka"
          ],
          [
           "Saints N Sinners Apple Pie"
          ]
         ],
         "hovertemplate": "%{customdata[0]}",
         "legendgroup": "",
         "marker": {
          "color": {
           "bdata": "GAYAAyAB8ADwANgAtAB4AGwAbAA=",
           "dtype": "i2"
          },
          "coloraxis": "coloraxis",
          "pattern": {
           "shape": ""
          }
         },
         "name": "",
         "orientation": "v",
         "showlegend": false,
         "text": {
          "bdata": "AAAAAABgmEAAAAAAAACIQAAAAAAAAHJAAAAAAAAAbkAAAAAAAABuQAAAAAAAAGtAAAAAAACAZkAAAAAAAABeQAAAAAAAAFtAAAAAAAAAW0A=",
          "dtype": "f8"
         },
         "textfont": {
          "color": "grey",
          "size": 16
         },
         "textposition": "outside",
         "texttemplate": "<i>%{text:,}</i>",
         "type": "bar",
         "x": [
          "52314",
          "50702",
          "50010",
          "50314",
          "51106",
          "52402",
          "50703",
          "50320",
          "50501",
          "50111"
         ],
         "xaxis": "x",
         "y": {
          "bdata": "GAYAAyAB8ADwANgAtAB4AGwAbAA=",
          "dtype": "i2"
         },
         "yaxis": "y"
        }
       ],
       "layout": {
        "barmode": "relative",
        "coloraxis": {
         "colorbar": {
          "title": {
           "text": "bottles_sold"
          }
         },
         "colorscale": [
          [
           0,
           "rgb(184, 227, 177)"
          ],
          [
           0.2,
           "rgb(145, 209, 142)"
          ],
          [
           0.4,
           "rgb(100, 188, 110)"
          ],
          [
           0.6,
           "rgb(57, 162, 86)"
          ],
          [
           0.8,
           "rgb(27, 132, 63)"
          ],
          [
           1,
           "rgb(0, 101, 41)"
          ]
         ],
         "showscale": false
        },
        "font": {
         "family": "Calibri",
         "size": 16
        },
        "legend": {
         "tracegroupgap": 0
        },
        "margin": {
         "b": 40,
         "l": 40,
         "r": 40,
         "t": 70
        },
        "plot_bgcolor": "white",
        "template": {
         "data": {
          "bar": [
           {
            "error_x": {
             "color": "#2a3f5f"
            },
            "error_y": {
             "color": "#2a3f5f"
            },
            "marker": {
             "line": {
              "color": "#E5ECF6",
              "width": 0.5
             },
             "pattern": {
              "fillmode": "overlay",
              "size": 10,
              "solidity": 0.2
             }
            },
            "type": "bar"
           }
          ],
          "barpolar": [
           {
            "marker": {
             "line": {
              "color": "#E5ECF6",
              "width": 0.5
             },
             "pattern": {
              "fillmode": "overlay",
              "size": 10,
              "solidity": 0.2
             }
            },
            "type": "barpolar"
           }
          ],
          "carpet": [
           {
            "aaxis": {
             "endlinecolor": "#2a3f5f",
             "gridcolor": "white",
             "linecolor": "white",
             "minorgridcolor": "white",
             "startlinecolor": "#2a3f5f"
            },
            "baxis": {
             "endlinecolor": "#2a3f5f",
             "gridcolor": "white",
             "linecolor": "white",
             "minorgridcolor": "white",
             "startlinecolor": "#2a3f5f"
            },
            "type": "carpet"
           }
          ],
          "choropleth": [
           {
            "colorbar": {
             "outlinewidth": 0,
             "ticks": ""
            },
            "type": "choropleth"
           }
          ],
          "contour": [
           {
            "colorbar": {
             "outlinewidth": 0,
             "ticks": ""
            },
            "colorscale": [
             [
              0,
              "#0d0887"
             ],
             [
              0.1111111111111111,
              "#46039f"
             ],
             [
              0.2222222222222222,
              "#7201a8"
             ],
             [
              0.3333333333333333,
              "#9c179e"
             ],
             [
              0.4444444444444444,
              "#bd3786"
             ],
             [
              0.5555555555555556,
              "#d8576b"
             ],
             [
              0.6666666666666666,
              "#ed7953"
             ],
             [
              0.7777777777777778,
              "#fb9f3a"
             ],
             [
              0.8888888888888888,
              "#fdca26"
             ],
             [
              1,
              "#f0f921"
             ]
            ],
            "type": "contour"
           }
          ],
          "contourcarpet": [
           {
            "colorbar": {
             "outlinewidth": 0,
             "ticks": ""
            },
            "type": "contourcarpet"
           }
          ],
          "heatmap": [
           {
            "colorbar": {
             "outlinewidth": 0,
             "ticks": ""
            },
            "colorscale": [
             [
              0,
              "#0d0887"
             ],
             [
              0.1111111111111111,
              "#46039f"
             ],
             [
              0.2222222222222222,
              "#7201a8"
             ],
             [
              0.3333333333333333,
              "#9c179e"
             ],
             [
              0.4444444444444444,
              "#bd3786"
             ],
             [
              0.5555555555555556,
              "#d8576b"
             ],
             [
              0.6666666666666666,
              "#ed7953"
             ],
             [
              0.7777777777777778,
              "#fb9f3a"
             ],
             [
              0.8888888888888888,
              "#fdca26"
             ],
             [
              1,
              "#f0f921"
             ]
            ],
            "type": "heatmap"
           }
          ],
          "histogram": [
           {
            "marker": {
             "pattern": {
              "fillmode": "overlay",
              "size": 10,
              "solidity": 0.2
             }
            },
            "type": "histogram"
           }
          ],
          "histogram2d": [
           {
            "colorbar": {
             "outlinewidth": 0,
             "ticks": ""
            },
            "colorscale": [
             [
              0,
              "#0d0887"
             ],
             [
              0.1111111111111111,
              "#46039f"
             ],
             [
              0.2222222222222222,
              "#7201a8"
             ],
             [
              0.3333333333333333,
              "#9c179e"
             ],
             [
              0.4444444444444444,
              "#bd3786"
             ],
             [
              0.5555555555555556,
              "#d8576b"
             ],
             [
              0.6666666666666666,
              "#ed7953"
             ],
             [
              0.7777777777777778,
              "#fb9f3a"
             ],
             [
              0.8888888888888888,
              "#fdca26"
             ],
             [
              1,
              "#f0f921"
             ]
            ],
            "type": "histogram2d"
           }
          ],
          "histogram2dcontour": [
           {
            "colorbar": {
             "outlinewidth": 0,
             "ticks": ""
            },
            "colorscale": [
             [
              0,
              "#0d0887"
             ],
             [
              0.1111111111111111,
              "#46039f"
             ],
             [
              0.2222222222222222,
              "#7201a8"
             ],
             [
              0.3333333333333333,
              "#9c179e"
             ],
             [
              0.4444444444444444,
              "#bd3786"
             ],
             [
              0.5555555555555556,
              "#d8576b"
             ],
             [
              0.6666666666666666,
              "#ed7953"
             ],
             [
              0.7777777777777778,
              "#fb9f3a"
             ],
             [
              0.8888888888888888,
              "#fdca26"
             ],
             [
              1,
              "#f0f921"
             ]
            ],
            "type": "histogram2dcontour"
           }
          ],
          "mesh3d": [
           {
            "colorbar": {
             "outlinewidth": 0,
             "ticks": ""
            },
            "type": "mesh3d"
           }
          ],
          "parcoords": [
           {
            "line": {
             "colorbar": {
              "outlinewidth": 0,
              "ticks": ""
             }
            },
            "type": "parcoords"
           }
          ],
          "pie": [
           {
            "automargin": true,
            "type": "pie"
           }
          ],
          "scatter": [
           {
            "fillpattern": {
             "fillmode": "overlay",
             "size": 10,
             "solidity": 0.2
            },
            "type": "scatter"
           }
          ],
          "scatter3d": [
           {
            "line": {
             "colorbar": {
              "outlinewidth": 0,
              "ticks": ""
             }
            },
            "marker": {
             "colorbar": {
              "outlinewidth": 0,
              "ticks": ""
             }
            },
            "type": "scatter3d"
           }
          ],
          "scattercarpet": [
           {
            "marker": {
             "colorbar": {
              "outlinewidth": 0,
              "ticks": ""
             }
            },
            "type": "scattercarpet"
           }
          ],
          "scattergeo": [
           {
            "marker": {
             "colorbar": {
              "outlinewidth": 0,
              "ticks": ""
             }
            },
            "type": "scattergeo"
           }
          ],
          "scattergl": [
           {
            "marker": {
             "colorbar": {
              "outlinewidth": 0,
              "ticks": ""
             }
            },
            "type": "scattergl"
           }
          ],
          "scattermap": [
           {
            "marker": {
             "colorbar": {
              "outlinewidth": 0,
              "ticks": ""
             }
            },
            "type": "scattermap"
           }
          ],
          "scattermapbox": [
           {
            "marker": {
             "colorbar": {
              "outlinewidth": 0,
              "ticks": ""
             }
            },
            "type": "scattermapbox"
           }
          ],
          "scatterpolar": [
           {
            "marker": {
             "colorbar": {
              "outlinewidth": 0,
              "ticks": ""
             }
            },
            "type": "scatterpolar"
           }
          ],
          "scatterpolargl": [
           {
            "marker": {
             "colorbar": {
              "outlinewidth": 0,
              "ticks": ""
             }
            },
            "type": "scatterpolargl"
           }
          ],
          "scatterternary": [
           {
            "marker": {
             "colorbar": {
              "outlinewidth": 0,
              "ticks": ""
             }
            },
            "type": "scatterternary"
           }
          ],
          "surface": [
           {
            "colorbar": {
             "outlinewidth": 0,
             "ticks": ""
            },
            "colorscale": [
             [
              0,
              "#0d0887"
             ],
             [
              0.1111111111111111,
              "#46039f"
             ],
             [
              0.2222222222222222,
              "#7201a8"
             ],
             [
              0.3333333333333333,
              "#9c179e"
             ],
             [
              0.4444444444444444,
              "#bd3786"
             ],
             [
              0.5555555555555556,
              "#d8576b"
             ],
             [
              0.6666666666666666,
              "#ed7953"
             ],
             [
              0.7777777777777778,
              "#fb9f3a"
             ],
             [
              0.8888888888888888,
              "#fdca26"
             ],
             [
              1,
              "#f0f921"
             ]
            ],
            "type": "surface"
           }
          ],
          "table": [
           {
            "cells": {
             "fill": {
              "color": "#EBF0F8"
             },
             "line": {
              "color": "white"
             }
            },
            "header": {
             "fill": {
              "color": "#C8D4E3"
             },
             "line": {
              "color": "white"
             }
            },
            "type": "table"
           }
          ]
         },
         "layout": {
          "annotationdefaults": {
           "arrowcolor": "#2a3f5f",
           "arrowhead": 0,
           "arrowwidth": 1
          },
          "autotypenumbers": "strict",
          "coloraxis": {
           "colorbar": {
            "outlinewidth": 0,
            "ticks": ""
           }
          },
          "colorscale": {
           "diverging": [
            [
             0,
             "#8e0152"
            ],
            [
             0.1,
             "#c51b7d"
            ],
            [
             0.2,
             "#de77ae"
            ],
            [
             0.3,
             "#f1b6da"
            ],
            [
             0.4,
             "#fde0ef"
            ],
            [
             0.5,
             "#f7f7f7"
            ],
            [
             0.6,
             "#e6f5d0"
            ],
            [
             0.7,
             "#b8e186"
            ],
            [
             0.8,
             "#7fbc41"
            ],
            [
             0.9,
             "#4d9221"
            ],
            [
             1,
             "#276419"
            ]
           ],
           "sequential": [
            [
             0,
             "#0d0887"
            ],
            [
             0.1111111111111111,
             "#46039f"
            ],
            [
             0.2222222222222222,
             "#7201a8"
            ],
            [
             0.3333333333333333,
             "#9c179e"
            ],
            [
             0.4444444444444444,
             "#bd3786"
            ],
            [
             0.5555555555555556,
             "#d8576b"
            ],
            [
             0.6666666666666666,
             "#ed7953"
            ],
            [
             0.7777777777777778,
             "#fb9f3a"
            ],
            [
             0.8888888888888888,
             "#fdca26"
            ],
            [
             1,
             "#f0f921"
            ]
           ],
           "sequentialminus": [
            [
             0,
             "#0d0887"
            ],
            [
             0.1111111111111111,
             "#46039f"
            ],
            [
             0.2222222222222222,
             "#7201a8"
            ],
            [
             0.3333333333333333,
             "#9c179e"
            ],
            [
             0.4444444444444444,
             "#bd3786"
            ],
            [
             0.5555555555555556,
             "#d8576b"
            ],
            [
             0.6666666666666666,
             "#ed7953"
            ],
            [
             0.7777777777777778,
             "#fb9f3a"
            ],
            [
             0.8888888888888888,
             "#fdca26"
            ],
            [
             1,
             "#f0f921"
            ]
           ]
          },
          "colorway": [
           "#636efa",
           "#EF553B",
           "#00cc96",
           "#ab63fa",
           "#FFA15A",
           "#19d3f3",
           "#FF6692",
           "#B6E880",
           "#FF97FF",
           "#FECB52"
          ],
          "font": {
           "color": "#2a3f5f"
          },
          "geo": {
           "bgcolor": "white",
           "lakecolor": "white",
           "landcolor": "#E5ECF6",
           "showlakes": true,
           "showland": true,
           "subunitcolor": "white"
          },
          "hoverlabel": {
           "align": "left"
          },
          "hovermode": "closest",
          "mapbox": {
           "style": "light"
          },
          "paper_bgcolor": "white",
          "plot_bgcolor": "#E5ECF6",
          "polar": {
           "angularaxis": {
            "gridcolor": "white",
            "linecolor": "white",
            "ticks": ""
           },
           "bgcolor": "#E5ECF6",
           "radialaxis": {
            "gridcolor": "white",
            "linecolor": "white",
            "ticks": ""
           }
          },
          "scene": {
           "xaxis": {
            "backgroundcolor": "#E5ECF6",
            "gridcolor": "white",
            "gridwidth": 2,
            "linecolor": "white",
            "showbackground": true,
            "ticks": "",
            "zerolinecolor": "white"
           },
           "yaxis": {
            "backgroundcolor": "#E5ECF6",
            "gridcolor": "white",
            "gridwidth": 2,
            "linecolor": "white",
            "showbackground": true,
            "ticks": "",
            "zerolinecolor": "white"
           },
           "zaxis": {
            "backgroundcolor": "#E5ECF6",
            "gridcolor": "white",
            "gridwidth": 2,
            "linecolor": "white",
            "showbackground": true,
            "ticks": "",
            "zerolinecolor": "white"
           }
          },
          "shapedefaults": {
           "line": {
            "color": "#2a3f5f"
           }
          },
          "ternary": {
           "aaxis": {
            "gridcolor": "white",
            "linecolor": "white",
            "ticks": ""
           },
           "baxis": {
            "gridcolor": "white",
            "linecolor": "white",
            "ticks": ""
           },
           "bgcolor": "#E5ECF6",
           "caxis": {
            "gridcolor": "white",
            "linecolor": "white",
            "ticks": ""
           }
          },
          "title": {
           "x": 0.05
          },
          "xaxis": {
           "automargin": true,
           "gridcolor": "white",
           "linecolor": "white",
           "ticks": "",
           "title": {
            "standoff": 15
           },
           "zerolinecolor": "white",
           "zerolinewidth": 2
          },
          "yaxis": {
           "automargin": true,
           "gridcolor": "white",
           "linecolor": "white",
           "ticks": "",
           "title": {
            "standoff": 15
           },
           "zerolinecolor": "white",
           "zerolinewidth": 2
          }
         }
        },
        "title": {
         "font": {
          "color": "black",
          "family": "Calibri",
          "size": 28
         },
         "text": "Top 10 Best-Selling Items by Zip Code (2016 - 2019)",
         "x": 0.5
        },
        "xaxis": {
         "anchor": "y",
         "domain": [
          0,
          1
         ],
         "title": {
          "font": {
           "family": "Calibri",
           "size": 20
          },
          "text": "Zip Code"
         }
        },
        "yaxis": {
         "anchor": "x",
         "domain": [
          0,
          1
         ],
         "showticklabels": false,
         "title": {
          "text": "Bottles Sold"
         }
        }
       }
      }
     },
     "metadata": {},
     "output_type": "display_data"
    }
   ],
   "source": [
    "# Define a trimmed green gradient\n",
    "greens_trimmed = px.colors.sample_colorscale(px.colors.sequential.Greens,\n",
    "                                             np.linspace(0.3, 0.9, 6))\n",
    "\n",
    "# Create bar chart with zip_code on x-axis and bottles_sold on y-axis\n",
    "fig = px.bar(\n",
    "    most_popular_items_sorted,\n",
    "    x=\"zip_code\",\n",
    "    y=\"bottles_sold\",\n",
    "    color=\"bottles_sold\",\n",
    "    color_continuous_scale=greens_trimmed,\n",
    "    text=\"bottles_sold\",\n",
    ")\n",
    "\n",
    "# Format labels above bars: bold, grey color, thousand separator\n",
    "# Customize hover to show item_description, zip code, and bottles sold\n",
    "fig.update_traces(\n",
    "    texttemplate=\"<i>%{text:,}</i>\",\n",
    "    textposition=\"outside\",\n",
    "    textfont=dict(color=\"grey\", size=16),\n",
    "    hovertemplate=\"%{customdata[0]}\"\n",
    "    ,\n",
    "    customdata=most_popular_items_sorted[[\"item_description\"]],\n",
    "    cliponaxis=False\n",
    ")\n",
    "\n",
    "# Update layout: title, axes labels, font, background, margins\n",
    "# Hide y-axis tick labels and remove color scale legend\n",
    "fig.update_layout(\n",
    "    title=dict(\n",
    "        text=\"Top 10 Best-Selling Items by Zip Code (2016 - 2019)\",\n",
    "        x=0.5,\n",
    "        font=dict(family=\"Calibri\", size=28, color=\"black\")\n",
    "    ),\n",
    "    xaxis_title=dict(text=\"Zip Code\", font=dict(family=\"Calibri\", size=20)),\n",
    "    yaxis_title=\"Bottles Sold\",\n",
    "    yaxis=dict(showticklabels=False),\n",
    "    font=dict(family=\"Calibri\", size=16),\n",
    "    plot_bgcolor=\"white\",\n",
    "    coloraxis_showscale=False,\n",
    "    margin=dict(l=40, r=40, t=70, b=40)\n",
    ")\n",
    "\n",
    "# Display figure\n",
    "fig.show()"
   ]
  },
  {
   "cell_type": "markdown",
   "id": "9817b85b",
   "metadata": {},
   "source": [
    "<hr>"
   ]
  },
  {
   "cell_type": "markdown",
   "id": "721b4f65",
   "metadata": {},
   "source": [
    "### Task 2 (Query): Top 10 Stores by Share of Total Sales"
   ]
  },
  {
   "cell_type": "code",
   "execution_count": 230,
   "id": "4493f31e",
   "metadata": {},
   "outputs": [
    {
     "data": {
      "text/html": [
       "<div>\n",
       "<style scoped>\n",
       "    .dataframe tbody tr th:only-of-type {\n",
       "        vertical-align: middle;\n",
       "    }\n",
       "\n",
       "    .dataframe tbody tr th {\n",
       "        vertical-align: top;\n",
       "    }\n",
       "\n",
       "    .dataframe thead th {\n",
       "        text-align: right;\n",
       "    }\n",
       "</style>\n",
       "<table border=\"1\" class=\"dataframe\">\n",
       "  <thead>\n",
       "    <tr style=\"text-align: right;\">\n",
       "      <th></th>\n",
       "      <th>store_name</th>\n",
       "      <th>sales_percentage</th>\n",
       "    </tr>\n",
       "  </thead>\n",
       "  <tbody>\n",
       "    <tr>\n",
       "      <th>0</th>\n",
       "      <td>Wilkie Liquors</td>\n",
       "      <td>0.182035</td>\n",
       "    </tr>\n",
       "    <tr>\n",
       "      <th>1</th>\n",
       "      <td>Sam's Club 6432 / Sioux City</td>\n",
       "      <td>0.104029</td>\n",
       "    </tr>\n",
       "    <tr>\n",
       "      <th>2</th>\n",
       "      <td>Sam's Club 6514 / Waterloo</td>\n",
       "      <td>0.081446</td>\n",
       "    </tr>\n",
       "    <tr>\n",
       "      <th>3</th>\n",
       "      <td>Hy-Vee #3 / BDI / Des Moines</td>\n",
       "      <td>0.064601</td>\n",
       "    </tr>\n",
       "    <tr>\n",
       "      <th>4</th>\n",
       "      <td>Sam's Club 6568 / Ames</td>\n",
       "      <td>0.061310</td>\n",
       "    </tr>\n",
       "    <tr>\n",
       "      <th>5</th>\n",
       "      <td>Cedar Ridge Vineyards</td>\n",
       "      <td>0.058155</td>\n",
       "    </tr>\n",
       "    <tr>\n",
       "      <th>6</th>\n",
       "      <td>Hy-Vee Wine and Spirits / WDM</td>\n",
       "      <td>0.052826</td>\n",
       "    </tr>\n",
       "    <tr>\n",
       "      <th>7</th>\n",
       "      <td>Central City 2</td>\n",
       "      <td>0.040424</td>\n",
       "    </tr>\n",
       "    <tr>\n",
       "      <th>8</th>\n",
       "      <td>Fareway Stores #138 / Pleasant Hill</td>\n",
       "      <td>0.035950</td>\n",
       "    </tr>\n",
       "    <tr>\n",
       "      <th>9</th>\n",
       "      <td>Hy-Vee Food Store #3 / Waterloo</td>\n",
       "      <td>0.035339</td>\n",
       "    </tr>\n",
       "  </tbody>\n",
       "</table>\n",
       "</div>"
      ],
      "text/plain": [
       "                            store_name  sales_percentage\n",
       "0                       Wilkie Liquors          0.182035\n",
       "1         Sam's Club 6432 / Sioux City          0.104029\n",
       "2           Sam's Club 6514 / Waterloo          0.081446\n",
       "3         Hy-Vee #3 / BDI / Des Moines          0.064601\n",
       "4               Sam's Club 6568 / Ames          0.061310\n",
       "5                Cedar Ridge Vineyards          0.058155\n",
       "6        Hy-Vee Wine and Spirits / WDM          0.052826\n",
       "7                       Central City 2          0.040424\n",
       "8  Fareway Stores #138 / Pleasant Hill          0.035950\n",
       "9      Hy-Vee Food Store #3 / Waterloo          0.035339"
      ]
     },
     "execution_count": 230,
     "metadata": {},
     "output_type": "execute_result"
    }
   ],
   "source": [
    "# Group sales by store_name and sum sale_dollars\n",
    "sales_by_store = sales.groupby(['store_name'])['sale_dollars'].sum().reset_index().sort_values(by=['sale_dollars'], ascending=False).reset_index(drop=True)\n",
    "\n",
    "# Calculate total sales amount\n",
    "total_sales_amount = sales_by_store['sale_dollars'].sum()\n",
    "\n",
    "# Calculate sales percentage for each store\n",
    "sales_by_store['sale_dollars'] = (sales_by_store['sale_dollars'] / total_sales_amount)\n",
    "\n",
    "# Rename the column from 'sale_dollars' to 'sales_percentage'\n",
    "sales_by_store = sales_by_store.rename(columns={'sale_dollars': 'sales_percentage'})\n",
    "\n",
    "# Select Top-10 stores by sales percentage\n",
    "top_ten_stores = sales_by_store.head(10).sort_values(\"sales_percentage\", ascending=False).copy()\n",
    "top_ten_stores"
   ]
  },
  {
   "cell_type": "markdown",
   "id": "ead9eb48",
   "metadata": {},
   "source": [
    "### Task 2 (Plot): Top 10 Stores by Share of Total Sales"
   ]
  },
  {
   "cell_type": "code",
   "execution_count": 229,
   "id": "d3c1374d",
   "metadata": {},
   "outputs": [
    {
     "data": {
      "application/vnd.plotly.v1+json": {
       "config": {
        "plotlyServerURL": "https://plot.ly"
       },
       "data": [
        {
         "cliponaxis": false,
         "customdata": {
          "bdata": "ZmZmZmayxkDYo3A9CvG5QI/C9ShcT7RA16NwPQocsECkcD0K15OuQAAAAAAAAa1AmpmZmZlYqkAzMzMzMymkQAAAAAAA7qFAAAAAAACgoUA=",
          "dtype": "f8"
         },
         "hovertemplate": "Total Sales → $%{customdata:,.0f}<extra></extra>",
         "legendgroup": "",
         "marker": {
          "color": {
           "bdata": "0jmckOxMxz9imhuKp6G6P+UncEOi2bQ/gGwLY7eJsD/IKDNFBGSvPwq9AKF2xq0/bp/+8/cLqz+OR/uAdbKkP6lBzXoRaKI/S1Vacf4Xoj8=",
           "dtype": "f8"
          },
          "coloraxis": "coloraxis",
          "pattern": {
           "shape": ""
          }
         },
         "name": "",
         "orientation": "h",
         "showlegend": false,
         "text": {
          "bdata": "0jmckOxMxz9imhuKp6G6P+UncEOi2bQ/gGwLY7eJsD/IKDNFBGSvPwq9AKF2xq0/bp/+8/cLqz+OR/uAdbKkP6lBzXoRaKI/S1Vacf4Xoj8=",
          "dtype": "f8"
         },
         "textfont": {
          "color": "grey",
          "size": 16
         },
         "textposition": "outside",
         "texttemplate": "<i>%{text:.2%}</i>",
         "type": "bar",
         "x": {
          "bdata": "0jmckOxMxz9imhuKp6G6P+UncEOi2bQ/gGwLY7eJsD/IKDNFBGSvPwq9AKF2xq0/bp/+8/cLqz+OR/uAdbKkP6lBzXoRaKI/S1Vacf4Xoj8=",
          "dtype": "f8"
         },
         "xaxis": "x",
         "y": [
          "Wilkie Liquors",
          "Sam's Club 6432 / Sioux City",
          "Sam's Club 6514 / Waterloo",
          "Hy-Vee #3 / BDI / Des Moines",
          "Sam's Club 6568 / Ames",
          "Cedar Ridge Vineyards",
          "Hy-Vee Wine and Spirits / WDM",
          "Central City 2",
          "Fareway Stores #138 / Pleasant Hill",
          "Hy-Vee Food Store #3 / Waterloo"
         ],
         "yaxis": "y"
        }
       ],
       "layout": {
        "barmode": "relative",
        "coloraxis": {
         "colorbar": {
          "title": {
           "text": "sales_percentage"
          }
         },
         "colorscale": [
          [
           0,
           "rgb(182, 212, 233)"
          ],
          [
           0.2,
           "rgb(140, 192, 221)"
          ],
          [
           0.4,
           "rgb(94, 165, 209)"
          ],
          [
           0.6,
           "rgb(57, 137, 193)"
          ],
          [
           0.8,
           "rgb(27, 105, 175)"
          ],
          [
           1,
           "rgb(8, 74, 146)"
          ]
         ],
         "showscale": false
        },
        "font": {
         "color": "black",
         "family": "Calibri",
         "size": 16
        },
        "height": 600,
        "legend": {
         "tracegroupgap": 0
        },
        "plot_bgcolor": "white",
        "template": {
         "data": {
          "bar": [
           {
            "error_x": {
             "color": "#2a3f5f"
            },
            "error_y": {
             "color": "#2a3f5f"
            },
            "marker": {
             "line": {
              "color": "#E5ECF6",
              "width": 0.5
             },
             "pattern": {
              "fillmode": "overlay",
              "size": 10,
              "solidity": 0.2
             }
            },
            "type": "bar"
           }
          ],
          "barpolar": [
           {
            "marker": {
             "line": {
              "color": "#E5ECF6",
              "width": 0.5
             },
             "pattern": {
              "fillmode": "overlay",
              "size": 10,
              "solidity": 0.2
             }
            },
            "type": "barpolar"
           }
          ],
          "carpet": [
           {
            "aaxis": {
             "endlinecolor": "#2a3f5f",
             "gridcolor": "white",
             "linecolor": "white",
             "minorgridcolor": "white",
             "startlinecolor": "#2a3f5f"
            },
            "baxis": {
             "endlinecolor": "#2a3f5f",
             "gridcolor": "white",
             "linecolor": "white",
             "minorgridcolor": "white",
             "startlinecolor": "#2a3f5f"
            },
            "type": "carpet"
           }
          ],
          "choropleth": [
           {
            "colorbar": {
             "outlinewidth": 0,
             "ticks": ""
            },
            "type": "choropleth"
           }
          ],
          "contour": [
           {
            "colorbar": {
             "outlinewidth": 0,
             "ticks": ""
            },
            "colorscale": [
             [
              0,
              "#0d0887"
             ],
             [
              0.1111111111111111,
              "#46039f"
             ],
             [
              0.2222222222222222,
              "#7201a8"
             ],
             [
              0.3333333333333333,
              "#9c179e"
             ],
             [
              0.4444444444444444,
              "#bd3786"
             ],
             [
              0.5555555555555556,
              "#d8576b"
             ],
             [
              0.6666666666666666,
              "#ed7953"
             ],
             [
              0.7777777777777778,
              "#fb9f3a"
             ],
             [
              0.8888888888888888,
              "#fdca26"
             ],
             [
              1,
              "#f0f921"
             ]
            ],
            "type": "contour"
           }
          ],
          "contourcarpet": [
           {
            "colorbar": {
             "outlinewidth": 0,
             "ticks": ""
            },
            "type": "contourcarpet"
           }
          ],
          "heatmap": [
           {
            "colorbar": {
             "outlinewidth": 0,
             "ticks": ""
            },
            "colorscale": [
             [
              0,
              "#0d0887"
             ],
             [
              0.1111111111111111,
              "#46039f"
             ],
             [
              0.2222222222222222,
              "#7201a8"
             ],
             [
              0.3333333333333333,
              "#9c179e"
             ],
             [
              0.4444444444444444,
              "#bd3786"
             ],
             [
              0.5555555555555556,
              "#d8576b"
             ],
             [
              0.6666666666666666,
              "#ed7953"
             ],
             [
              0.7777777777777778,
              "#fb9f3a"
             ],
             [
              0.8888888888888888,
              "#fdca26"
             ],
             [
              1,
              "#f0f921"
             ]
            ],
            "type": "heatmap"
           }
          ],
          "histogram": [
           {
            "marker": {
             "pattern": {
              "fillmode": "overlay",
              "size": 10,
              "solidity": 0.2
             }
            },
            "type": "histogram"
           }
          ],
          "histogram2d": [
           {
            "colorbar": {
             "outlinewidth": 0,
             "ticks": ""
            },
            "colorscale": [
             [
              0,
              "#0d0887"
             ],
             [
              0.1111111111111111,
              "#46039f"
             ],
             [
              0.2222222222222222,
              "#7201a8"
             ],
             [
              0.3333333333333333,
              "#9c179e"
             ],
             [
              0.4444444444444444,
              "#bd3786"
             ],
             [
              0.5555555555555556,
              "#d8576b"
             ],
             [
              0.6666666666666666,
              "#ed7953"
             ],
             [
              0.7777777777777778,
              "#fb9f3a"
             ],
             [
              0.8888888888888888,
              "#fdca26"
             ],
             [
              1,
              "#f0f921"
             ]
            ],
            "type": "histogram2d"
           }
          ],
          "histogram2dcontour": [
           {
            "colorbar": {
             "outlinewidth": 0,
             "ticks": ""
            },
            "colorscale": [
             [
              0,
              "#0d0887"
             ],
             [
              0.1111111111111111,
              "#46039f"
             ],
             [
              0.2222222222222222,
              "#7201a8"
             ],
             [
              0.3333333333333333,
              "#9c179e"
             ],
             [
              0.4444444444444444,
              "#bd3786"
             ],
             [
              0.5555555555555556,
              "#d8576b"
             ],
             [
              0.6666666666666666,
              "#ed7953"
             ],
             [
              0.7777777777777778,
              "#fb9f3a"
             ],
             [
              0.8888888888888888,
              "#fdca26"
             ],
             [
              1,
              "#f0f921"
             ]
            ],
            "type": "histogram2dcontour"
           }
          ],
          "mesh3d": [
           {
            "colorbar": {
             "outlinewidth": 0,
             "ticks": ""
            },
            "type": "mesh3d"
           }
          ],
          "parcoords": [
           {
            "line": {
             "colorbar": {
              "outlinewidth": 0,
              "ticks": ""
             }
            },
            "type": "parcoords"
           }
          ],
          "pie": [
           {
            "automargin": true,
            "type": "pie"
           }
          ],
          "scatter": [
           {
            "fillpattern": {
             "fillmode": "overlay",
             "size": 10,
             "solidity": 0.2
            },
            "type": "scatter"
           }
          ],
          "scatter3d": [
           {
            "line": {
             "colorbar": {
              "outlinewidth": 0,
              "ticks": ""
             }
            },
            "marker": {
             "colorbar": {
              "outlinewidth": 0,
              "ticks": ""
             }
            },
            "type": "scatter3d"
           }
          ],
          "scattercarpet": [
           {
            "marker": {
             "colorbar": {
              "outlinewidth": 0,
              "ticks": ""
             }
            },
            "type": "scattercarpet"
           }
          ],
          "scattergeo": [
           {
            "marker": {
             "colorbar": {
              "outlinewidth": 0,
              "ticks": ""
             }
            },
            "type": "scattergeo"
           }
          ],
          "scattergl": [
           {
            "marker": {
             "colorbar": {
              "outlinewidth": 0,
              "ticks": ""
             }
            },
            "type": "scattergl"
           }
          ],
          "scattermap": [
           {
            "marker": {
             "colorbar": {
              "outlinewidth": 0,
              "ticks": ""
             }
            },
            "type": "scattermap"
           }
          ],
          "scattermapbox": [
           {
            "marker": {
             "colorbar": {
              "outlinewidth": 0,
              "ticks": ""
             }
            },
            "type": "scattermapbox"
           }
          ],
          "scatterpolar": [
           {
            "marker": {
             "colorbar": {
              "outlinewidth": 0,
              "ticks": ""
             }
            },
            "type": "scatterpolar"
           }
          ],
          "scatterpolargl": [
           {
            "marker": {
             "colorbar": {
              "outlinewidth": 0,
              "ticks": ""
             }
            },
            "type": "scatterpolargl"
           }
          ],
          "scatterternary": [
           {
            "marker": {
             "colorbar": {
              "outlinewidth": 0,
              "ticks": ""
             }
            },
            "type": "scatterternary"
           }
          ],
          "surface": [
           {
            "colorbar": {
             "outlinewidth": 0,
             "ticks": ""
            },
            "colorscale": [
             [
              0,
              "#0d0887"
             ],
             [
              0.1111111111111111,
              "#46039f"
             ],
             [
              0.2222222222222222,
              "#7201a8"
             ],
             [
              0.3333333333333333,
              "#9c179e"
             ],
             [
              0.4444444444444444,
              "#bd3786"
             ],
             [
              0.5555555555555556,
              "#d8576b"
             ],
             [
              0.6666666666666666,
              "#ed7953"
             ],
             [
              0.7777777777777778,
              "#fb9f3a"
             ],
             [
              0.8888888888888888,
              "#fdca26"
             ],
             [
              1,
              "#f0f921"
             ]
            ],
            "type": "surface"
           }
          ],
          "table": [
           {
            "cells": {
             "fill": {
              "color": "#EBF0F8"
             },
             "line": {
              "color": "white"
             }
            },
            "header": {
             "fill": {
              "color": "#C8D4E3"
             },
             "line": {
              "color": "white"
             }
            },
            "type": "table"
           }
          ]
         },
         "layout": {
          "annotationdefaults": {
           "arrowcolor": "#2a3f5f",
           "arrowhead": 0,
           "arrowwidth": 1
          },
          "autotypenumbers": "strict",
          "coloraxis": {
           "colorbar": {
            "outlinewidth": 0,
            "ticks": ""
           }
          },
          "colorscale": {
           "diverging": [
            [
             0,
             "#8e0152"
            ],
            [
             0.1,
             "#c51b7d"
            ],
            [
             0.2,
             "#de77ae"
            ],
            [
             0.3,
             "#f1b6da"
            ],
            [
             0.4,
             "#fde0ef"
            ],
            [
             0.5,
             "#f7f7f7"
            ],
            [
             0.6,
             "#e6f5d0"
            ],
            [
             0.7,
             "#b8e186"
            ],
            [
             0.8,
             "#7fbc41"
            ],
            [
             0.9,
             "#4d9221"
            ],
            [
             1,
             "#276419"
            ]
           ],
           "sequential": [
            [
             0,
             "#0d0887"
            ],
            [
             0.1111111111111111,
             "#46039f"
            ],
            [
             0.2222222222222222,
             "#7201a8"
            ],
            [
             0.3333333333333333,
             "#9c179e"
            ],
            [
             0.4444444444444444,
             "#bd3786"
            ],
            [
             0.5555555555555556,
             "#d8576b"
            ],
            [
             0.6666666666666666,
             "#ed7953"
            ],
            [
             0.7777777777777778,
             "#fb9f3a"
            ],
            [
             0.8888888888888888,
             "#fdca26"
            ],
            [
             1,
             "#f0f921"
            ]
           ],
           "sequentialminus": [
            [
             0,
             "#0d0887"
            ],
            [
             0.1111111111111111,
             "#46039f"
            ],
            [
             0.2222222222222222,
             "#7201a8"
            ],
            [
             0.3333333333333333,
             "#9c179e"
            ],
            [
             0.4444444444444444,
             "#bd3786"
            ],
            [
             0.5555555555555556,
             "#d8576b"
            ],
            [
             0.6666666666666666,
             "#ed7953"
            ],
            [
             0.7777777777777778,
             "#fb9f3a"
            ],
            [
             0.8888888888888888,
             "#fdca26"
            ],
            [
             1,
             "#f0f921"
            ]
           ]
          },
          "colorway": [
           "#636efa",
           "#EF553B",
           "#00cc96",
           "#ab63fa",
           "#FFA15A",
           "#19d3f3",
           "#FF6692",
           "#B6E880",
           "#FF97FF",
           "#FECB52"
          ],
          "font": {
           "color": "#2a3f5f"
          },
          "geo": {
           "bgcolor": "white",
           "lakecolor": "white",
           "landcolor": "#E5ECF6",
           "showlakes": true,
           "showland": true,
           "subunitcolor": "white"
          },
          "hoverlabel": {
           "align": "left"
          },
          "hovermode": "closest",
          "mapbox": {
           "style": "light"
          },
          "paper_bgcolor": "white",
          "plot_bgcolor": "#E5ECF6",
          "polar": {
           "angularaxis": {
            "gridcolor": "white",
            "linecolor": "white",
            "ticks": ""
           },
           "bgcolor": "#E5ECF6",
           "radialaxis": {
            "gridcolor": "white",
            "linecolor": "white",
            "ticks": ""
           }
          },
          "scene": {
           "xaxis": {
            "backgroundcolor": "#E5ECF6",
            "gridcolor": "white",
            "gridwidth": 2,
            "linecolor": "white",
            "showbackground": true,
            "ticks": "",
            "zerolinecolor": "white"
           },
           "yaxis": {
            "backgroundcolor": "#E5ECF6",
            "gridcolor": "white",
            "gridwidth": 2,
            "linecolor": "white",
            "showbackground": true,
            "ticks": "",
            "zerolinecolor": "white"
           },
           "zaxis": {
            "backgroundcolor": "#E5ECF6",
            "gridcolor": "white",
            "gridwidth": 2,
            "linecolor": "white",
            "showbackground": true,
            "ticks": "",
            "zerolinecolor": "white"
           }
          },
          "shapedefaults": {
           "line": {
            "color": "#2a3f5f"
           }
          },
          "ternary": {
           "aaxis": {
            "gridcolor": "white",
            "linecolor": "white",
            "ticks": ""
           },
           "baxis": {
            "gridcolor": "white",
            "linecolor": "white",
            "ticks": ""
           },
           "bgcolor": "#E5ECF6",
           "caxis": {
            "gridcolor": "white",
            "linecolor": "white",
            "ticks": ""
           }
          },
          "title": {
           "x": 0.05
          },
          "xaxis": {
           "automargin": true,
           "gridcolor": "white",
           "linecolor": "white",
           "ticks": "",
           "title": {
            "standoff": 15
           },
           "zerolinecolor": "white",
           "zerolinewidth": 2
          },
          "yaxis": {
           "automargin": true,
           "gridcolor": "white",
           "linecolor": "white",
           "ticks": "",
           "title": {
            "standoff": 15
           },
           "zerolinecolor": "white",
           "zerolinewidth": 2
          }
         }
        },
        "title": {
         "font": {
          "color": "black",
          "family": "Calibri",
          "size": 28
         },
         "text": "Top 10 Stores by Share of Total Sales (2016 - 2019)",
         "x": 0.5
        },
        "width": 750,
        "xaxis": {
         "anchor": "y",
         "domain": [
          0,
          1
         ],
         "showticklabels": false,
         "title": {}
        },
        "yaxis": {
         "anchor": "x",
         "categoryorder": "total ascending",
         "domain": [
          0,
          1
         ],
         "tickfont": {
          "color": "black",
          "size": 16
         },
         "ticklabelstandoff": 10,
         "title": {}
        }
       }
      }
     },
     "metadata": {},
     "output_type": "display_data"
    }
   ],
   "source": [
    "# Sort descending by sales_percentage\n",
    "df_sorted = top_ten_stores.sort_values(\"sales_percentage\", ascending=False)\n",
    "df_sorted[\"total_sales_calc\"] = df_sorted[\"sales_percentage\"] * total_sales_amount\n",
    "\n",
    "\n",
    "# Trimmed green gradient\n",
    "blues_trimmed = px.colors.sample_colorscale(\n",
    "    px.colors.sequential.Blues,\n",
    "    np.linspace(0.3, 0.9, 6)\n",
    ")\n",
    "\n",
    "fig = px.bar(\n",
    "    df_sorted,\n",
    "    x=\"sales_percentage\",\n",
    "    y=\"store_name\",\n",
    "    orientation=\"h\",\n",
    "    text=\"sales_percentage\",\n",
    "    color=\"sales_percentage\",\n",
    "    color_continuous_scale=blues_trimmed,\n",
    "    title=\"Top 10 Stores by Share of Total Sales (2016 - 2019)\"\n",
    ")\n",
    "\n",
    "# Labels above bars\n",
    "fig.update_traces(\n",
    "    texttemplate=\"<i>%{text:.2%}</i>\",  # italic, 2 decimals as percentage\n",
    "    textposition=\"outside\",\n",
    "    textfont=dict(color=\"grey\", size=16),\n",
    "    cliponaxis=False,\n",
    "    customdata=df_sorted[\"total_sales_calc\"],\n",
    "    hovertemplate=(\n",
    "        \"Total Sales → $%{customdata:,.0f}<extra></extra>\"\n",
    "    )\n",
    ")\n",
    "\n",
    "# Layout styling\n",
    "fig.update_layout(\n",
    "    width=750,\n",
    "    height=600,\n",
    "    xaxis_title=None,\n",
    "    yaxis_title=None,\n",
    "    xaxis=dict(showticklabels=False),\n",
    "    yaxis=dict(\n",
    "        categoryorder=\"total ascending\",\n",
    "        tickfont=dict(size=16, color=\"black\"),\n",
    "        ticklabelstandoff=10\n",
    "    ),\n",
    "    font=dict(family=\"Calibri\", size=16, color=\"black\"),\n",
    "    plot_bgcolor=\"white\",\n",
    "    coloraxis_showscale=False,\n",
    "    title=dict(\n",
    "        x=0.5,\n",
    "        font=dict(family=\"Calibri\", size=28, color=\"black\"),\n",
    "    )\n",
    ")\n",
    "\n",
    "fig.show()"
   ]
  },
  {
   "cell_type": "code",
   "execution_count": null,
   "id": "7e6c3698",
   "metadata": {},
   "outputs": [],
   "source": []
  }
 ],
 "metadata": {
  "kernelspec": {
   "display_name": "base",
   "language": "python",
   "name": "python3"
  },
  "language_info": {
   "codemirror_mode": {
    "name": "ipython",
    "version": 3
   },
   "file_extension": ".py",
   "mimetype": "text/x-python",
   "name": "python",
   "nbconvert_exporter": "python",
   "pygments_lexer": "ipython3",
   "version": "3.13.2"
  }
 },
 "nbformat": 4,
 "nbformat_minor": 5
}
